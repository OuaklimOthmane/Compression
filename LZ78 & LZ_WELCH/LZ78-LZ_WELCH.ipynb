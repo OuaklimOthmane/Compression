{
 "cells": [
  {
   "cell_type": "markdown",
   "metadata": {},
   "source": [
    "###### "
   ]
  },
  {
   "cell_type": "markdown",
   "metadata": {},
   "source": [
    "# LZ78"
   ]
  },
  {
   "cell_type": "markdown",
   "metadata": {},
   "source": [
    "###### "
   ]
  },
  {
   "cell_type": "markdown",
   "metadata": {},
   "source": [
    "### 1. Compression_Texte :"
   ]
  },
  {
   "cell_type": "code",
   "execution_count": 1,
   "metadata": {},
   "outputs": [],
   "source": [
    "\n",
    "def compress_txt(sequence):\n",
    "    Dict = []\n",
    "    L = ['']\n",
    "    chaine_analysee = ''\n",
    "    i = 0\n",
    "    \n",
    "    for charat in sequence:\n",
    "        \n",
    "        i += 1\n",
    "        chaine_analysee += charat\n",
    "        \n",
    "        if not chaine_analysee in L :\n",
    "            \n",
    "            L.append(chaine_analysee)\n",
    "            derniere_lettre = chaine_analysee[-1]\n",
    "            indice = L.index(chaine_analysee[0:-1])\n",
    "            Dict.append((indice , derniere_lettre))\n",
    "            chaine_analysee = ''\n",
    "            \n",
    "        elif i == len(sequence):\n",
    "            \n",
    "            Dict.append((0,chaine_analysee)) # chaine_analysee[-1] !!\n",
    "#             chaine_analysee = ''\n",
    "            \n",
    "    return Dict\n"
   ]
  },
  {
   "cell_type": "code",
   "execution_count": 2,
   "metadata": {},
   "outputs": [
    {
     "name": "stdout",
     "output_type": "stream",
     "text": [
      "[(0, 'I'), (0, 'l'), (0, ' '), (0, 'e'), (0, 's'), (0, 't'), (3, 'p'), (2, 'u'), (5, ' '), (0, 'f'), (0, 'a'), (0, 'c'), (0, 'i'), (2, 'e'), (3, 'd'), (4, ' '), (12, 'o'), (0, 'n'), (5, 'e'), (13, 'l'), (14, 'r'), (3, 'q'), (0, 'u'), (16, 'd'), (16, 'f'), (11, 'i'), (0, 'r'), (16, 'S'), (13, ' '), (0, 'j'), (4, 'u'), (18, 'e'), (5, 's'), (16, 's'), (11, 'v'), (26, 't'), (0, ','), (3, 's'), (29, 'v'), (13, 'e'), (20, 'l'), (4, 's'), (19, ' '), (0, 'p'), (0, 'o'), (23, 'v'), (36, ' '), (0, 'M'), (40, 'u'), (0, 'x'), (3, 'v'), (11, 'u'), (6, ' '), (5, 'é'), (0, 'd'), (23, 'i'), (27, 'e'), (22, 'u'), (34, 'é'), (0, 'v'), (13, 'r'), (3, 'L'), (25, 'o'), (23, ' '), (19, 'm'), (0, 'b'), (14, ' '), (5, 'a'), (0, 'g'), (16, 'q'), (23, 'a'), (18, 'd'), (3, 'i'), (2, ' '), (43, 't'), (0, 'ait')]\n"
     ]
    }
   ],
   "source": [
    "\n",
    "print(compress_txt(\"Il est plus facile de conseiller que de faire Si jeunesse savait, si vieillesse pouvait Mieux vaut séduire que sévir Le fou semble sage quand il se tait\"))"
   ]
  },
  {
   "cell_type": "markdown",
   "metadata": {},
   "source": [
    "### 2. Taux de compression_Texte :"
   ]
  },
  {
   "cell_type": "code",
   "execution_count": 8,
   "metadata": {},
   "outputs": [],
   "source": [
    "\n",
    "def taux_de_compression_txt(seq):\n",
    "    m=[]\n",
    "    n=[]\n",
    "    l=compress_txt(seq)\n",
    "    strg = []\n",
    "    for i in l:\n",
    "        m = list(i)\n",
    "        for j in m :\n",
    "            strg.append(j)\n",
    "    k=0\n",
    "    for k in range(0,len(strg),2):\n",
    "        m.append(int(strg[k]))\n",
    "        n=m[2:]\n",
    "    temp = len(format(int(max(n)),\"b\"))\n",
    "    \n",
    "    return 1-(len(compress_txt(seq))*(8+temp))/(len(seq)*8)\n"
   ]
  },
  {
   "cell_type": "code",
   "execution_count": 9,
   "metadata": {},
   "outputs": [
    {
     "data": {
      "text/plain": [
       "0.125"
      ]
     },
     "execution_count": 9,
     "metadata": {},
     "output_type": "execute_result"
    }
   ],
   "source": [
    "\n",
    "taux_de_compression_txt(\"Il est plus facile de conseiller que de faire Si jeunesse savait, si vieillesse pouvait Mieux vaut séduire que sévir Le fou semble sage quand il se tait\")"
   ]
  },
  {
   "cell_type": "markdown",
   "metadata": {},
   "source": [
    "### 3. Decompression_Texte :"
   ]
  },
  {
   "cell_type": "code",
   "execution_count": 10,
   "metadata": {},
   "outputs": [],
   "source": [
    "\n",
    "def decompress_txt(chaine_compressee):\n",
    "    chn_compr_list=[]\n",
    "    for i in chaine_compressee:\n",
    "        m = list(i)\n",
    "        for j in m :\n",
    "            chn_compr_list.append(j)\n",
    "    i = 2\n",
    "    mot = ''\n",
    "    chaine_decompressee = ''\n",
    "    lst = [chn_compr_list[1]]\n",
    "    while(i < len(chn_compr_list)) :      \n",
    "        if int(chn_compr_list[i]) != 0 :\n",
    "            x = lst[int(chn_compr_list[i])-1] + chn_compr_list[i+1]\n",
    "            mot += x\n",
    "            lst.append(mot)\n",
    "            mot = '' \n",
    "        else :\n",
    "            lst.append(chn_compr_list[i+1])\n",
    "            mot = ''\n",
    "        i = i + 2\n",
    "    for j in lst :\n",
    "        chaine_decompressee += j\n",
    "    return chaine_decompressee\n"
   ]
  },
  {
   "cell_type": "code",
   "execution_count": 11,
   "metadata": {},
   "outputs": [
    {
     "data": {
      "text/plain": [
       "'Il est plus facile de conseiller que de faire Si jeunesse savait, si vieillesse pouvait Mieux vaut séduire que sévir Le fou semble sage quand il se tait'"
      ]
     },
     "execution_count": 11,
     "metadata": {},
     "output_type": "execute_result"
    }
   ],
   "source": [
    "\n",
    "l=[(0, 'I'), (0, 'l'), (0, ' '), (0, 'e'), (0, 's'), (0, 't'), (3, 'p'), (2, 'u'), (5, ' '), (0, 'f'), (0, 'a'), (0, 'c'), (0, 'i'), (2, 'e'), (3, 'd'), (4, ' '), (12, 'o'), (0, 'n'), (5, 'e'), (13, 'l'), (14, 'r'), (3, 'q'), (0, 'u'), (16, 'd'), (16, 'f'), (11, 'i'), (0, 'r'), (16, 'S'), (13, ' '), (0, 'j'), (4, 'u'), (18, 'e'), (5, 's'), (16, 's'), (11, 'v'), (26, 't'), (0, ','), (3, 's'), (29, 'v'), (13, 'e'), (20, 'l'), (4, 's'), (19, ' '), (0, 'p'), (0, 'o'), (23, 'v'), (36, ' '), (0, 'M'), (40, 'u'), (0, 'x'), (3, 'v'), (11, 'u'), (6, ' '), (5, 'é'), (0, 'd'), (23, 'i'), (27, 'e'), (22, 'u'), (34, 'é'), (0, 'v'), (13, 'r'), (3, 'L'), (25, 'o'), (23, ' '), (19, 'm'), (0, 'b'), (14, ' '), (5, 'a'), (0, 'g'), (16, 'q'), (23, 'a'), (18, 'd'), (3, 'i'), (2, ' '), (43, 't'), (0, 'ait')]\n",
    "decompress_txt(l)"
   ]
  },
  {
   "cell_type": "markdown",
   "metadata": {},
   "source": [
    "### 4. Decompression_image :"
   ]
  },
  {
   "cell_type": "code",
   "execution_count": 20,
   "metadata": {},
   "outputs": [
    {
     "data": {
      "image/png": "[encoded data removed]",
      "text/plain": [
       "<Figure size 432x288 with 1 Axes>"
      ]
     },
     "metadata": {
      "needs_background": "light"
     },
     "output_type": "display_data"
    }
   ],
   "source": [
    "\n",
    "import numpy as np\n",
    "import matplotlib.pyplot as plt\n",
    "\n",
    "img=np.array([[0, 3, 5, 7, 2, 3, 0],\n",
    "       [8, 5, 3, 2, 5, 3, 8],\n",
    "       [1, 4, 1, 5, 1, 1, 3],\n",
    "       [7, 2, 4, 3, 0, 3, 0],\n",
    "       [4, 1, 0, 1, 2, 5, 4],\n",
    "       [8, 0, 2, 2, 3, 0, 1],\n",
    "       [6, 2, 1, 3, 2, 2, 0],\n",
    "       [0, 1, 0, 5, 2, 5, 0],\n",
    "       [1, 0, 0, 2, 3, 0, 6]])\n",
    "plt.imshow(img,cmap=plt.get_cmap('gray'))\n",
    "plt.show()\n"
   ]
  },
  {
   "cell_type": "code",
   "execution_count": 13,
   "metadata": {},
   "outputs": [],
   "source": [
    "\n",
    "def compress_img(img):\n",
    "    nl,nc = np.shape(img)\n",
    "    l = img.reshape(nl*nc)\n",
    "    mot = ''\n",
    "    for i in l:\n",
    "        mot += str(i)\n",
    "    img_compressee=compress_txt(mot)\n",
    "    img_compressee.append((nl,nc))\n",
    "    return img_compressee \n"
   ]
  },
  {
   "cell_type": "code",
   "execution_count": 14,
   "metadata": {},
   "outputs": [
    {
     "data": {
      "text/plain": [
       "[(0, '0'),\n",
       " (0, '3'),\n",
       " (0, '5'),\n",
       " (0, '7'),\n",
       " (0, '2'),\n",
       " (2, '0'),\n",
       " (0, '8'),\n",
       " (3, '3'),\n",
       " (5, '5'),\n",
       " (2, '8'),\n",
       " (0, '1'),\n",
       " (0, '4'),\n",
       " (11, '5'),\n",
       " (11, '1'),\n",
       " (2, '7'),\n",
       " (5, '4'),\n",
       " (6, '3'),\n",
       " (1, '4'),\n",
       " (11, '0'),\n",
       " (11, '2'),\n",
       " (3, '4'),\n",
       " (7, '0'),\n",
       " (5, '2'),\n",
       " (6, '1'),\n",
       " (0, '6'),\n",
       " (5, '1'),\n",
       " (2, '2'),\n",
       " (5, '0'),\n",
       " (1, '1'),\n",
       " (1, '5'),\n",
       " (9, '0'),\n",
       " (19, '0'),\n",
       " (5, '3'),\n",
       " (1, '6'),\n",
       " (9, 7)]"
      ]
     },
     "execution_count": 14,
     "metadata": {},
     "output_type": "execute_result"
    }
   ],
   "source": [
    "compress_img(img)"
   ]
  },
  {
   "cell_type": "markdown",
   "metadata": {},
   "source": [
    "### 5. Decompression_Image :"
   ]
  },
  {
   "cell_type": "code",
   "execution_count": 21,
   "metadata": {},
   "outputs": [],
   "source": [
    "\n",
    "def decompress_img(img_compressee) :\n",
    "    nl,nc = img_compressee[-1]\n",
    "    img_org = np.zeros((nl,nc))\n",
    "    m=decompress_txt(img_compressee[:-1])\n",
    "    k=0\n",
    "    for i in range(nl) :\n",
    "        for j in range(nc) : \n",
    "            while(k < len(m)) :\n",
    "                img_org[i][j] = int(m[k])\n",
    "                break\n",
    "            k+=1\n",
    "    return img_org\n",
    "\n"
   ]
  },
  {
   "cell_type": "code",
   "execution_count": 22,
   "metadata": {},
   "outputs": [
    {
     "data": {
      "text/plain": [
       "array([[0., 3., 5., 7., 2., 3., 0.],\n",
       "       [8., 5., 3., 2., 5., 3., 8.],\n",
       "       [1., 4., 1., 5., 1., 1., 3.],\n",
       "       [7., 2., 4., 3., 0., 3., 0.],\n",
       "       [4., 1., 0., 1., 2., 5., 4.],\n",
       "       [8., 0., 2., 2., 3., 0., 1.],\n",
       "       [6., 2., 1., 3., 2., 2., 0.],\n",
       "       [0., 1., 0., 5., 2., 5., 0.],\n",
       "       [1., 0., 0., 2., 3., 0., 6.]])"
      ]
     },
     "execution_count": 22,
     "metadata": {},
     "output_type": "execute_result"
    }
   ],
   "source": [
    "k=[(0, '0'),\n",
    " (0, '3'),\n",
    " (0, '5'),\n",
    " (0, '7'),\n",
    " (0, '2'),\n",
    " (2, '0'),\n",
    " (0, '8'),\n",
    " (3, '3'),\n",
    " (5, '5'),\n",
    " (2, '8'),\n",
    " (0, '1'),\n",
    " (0, '4'),\n",
    " (11, '5'),\n",
    " (11, '1'),\n",
    " (2, '7'),\n",
    " (5, '4'),\n",
    " (6, '3'),\n",
    " (1, '4'),\n",
    " (11, '0'),\n",
    " (11, '2'),\n",
    " (3, '4'),\n",
    " (7, '0'),\n",
    " (5, '2'),\n",
    " (6, '1'),\n",
    " (0, '6'),\n",
    " (5, '1'),\n",
    " (2, '2'),\n",
    " (5, '0'),\n",
    " (1, '1'),\n",
    " (1, '5'),\n",
    " (9, '0'),\n",
    " (19, '0'),\n",
    " (5, '3'),\n",
    " (1, '6'),\n",
    " (9, 7)]\n",
    "\n",
    "decompress_img(k)"
   ]
  },
  {
   "cell_type": "code",
   "execution_count": 23,
   "metadata": {},
   "outputs": [
    {
     "data": {
      "image/png": "[encoded data removed]",
      "text/plain": [
       "<Figure size 432x288 with 1 Axes>"
      ]
     },
     "metadata": {
      "needs_background": "light"
     },
     "output_type": "display_data"
    }
   ],
   "source": [
    "\n",
    "plt.imshow(decompress_img(k),cmap=plt.get_cmap('gray'))\n",
    "plt.show()"
   ]
  },
  {
   "cell_type": "markdown",
   "metadata": {},
   "source": [
    "###### "
   ]
  },
  {
   "cell_type": "markdown",
   "metadata": {},
   "source": [
    "# LZ_WELCH"
   ]
  },
  {
   "cell_type": "markdown",
   "metadata": {},
   "source": [
    "###### "
   ]
  },
  {
   "cell_type": "markdown",
   "metadata": {},
   "source": [
    "### 1. Compression_Texte :"
   ]
  },
  {
   "cell_type": "code",
   "execution_count": 10,
   "metadata": {},
   "outputs": [],
   "source": [
    "def compress_text_lzw(text,dic):\n",
    "    n =max(dic.values())\n",
    "    p=\"\"\n",
    "    D={}\n",
    "    for c in text:\n",
    "        nov = p+ c\n",
    "        if nov in dic:\n",
    "            p = nov\n",
    "        else:\n",
    "            dic[nov]=n\n",
    "            n+=1\n",
    "            D[p+c]=n\n",
    "            p=c   \n",
    "            \n",
    "    return D"
   ]
  },
  {
   "cell_type": "code",
   "execution_count": 16,
   "metadata": {},
   "outputs": [
    {
     "data": {
      "text/plain": [
       "{'I': 6,\n",
       " 'Il': 7,\n",
       " 'l ': 8,\n",
       " ' e': 9,\n",
       " 'es': 10,\n",
       " 'st': 11,\n",
       " 't ': 12,\n",
       " ' p': 13,\n",
       " 'pl': 14,\n",
       " 'lu': 15,\n",
       " 'us': 16,\n",
       " 's ': 17,\n",
       " ' f': 18,\n",
       " 'fa': 19,\n",
       " 'ac': 20,\n",
       " 'ci': 21,\n",
       " 'il': 22,\n",
       " 'le': 23,\n",
       " 'e ': 24,\n",
       " ' d': 25,\n",
       " 'de': 26,\n",
       " 'e c': 27,\n",
       " 'co': 28,\n",
       " 'on': 29,\n",
       " 'ns': 30,\n",
       " 'se': 31,\n",
       " 'ei': 32,\n",
       " 'ill': 33,\n",
       " 'ler': 34,\n",
       " 'r ': 35,\n",
       " ' q': 36,\n",
       " 'qu': 37,\n",
       " 'ue': 38,\n",
       " 'e d': 39,\n",
       " 'de ': 40,\n",
       " ' fa': 41,\n",
       " 'ai': 42,\n",
       " 'ir': 43,\n",
       " 're': 44,\n",
       " 'e S': 45,\n",
       " 'Si': 46,\n",
       " 'i ': 47,\n",
       " ' j': 48,\n",
       " 'je': 49,\n",
       " 'eu': 50,\n",
       " 'un': 51,\n",
       " 'ne': 52,\n",
       " 'ess': 53,\n",
       " 'se ': 54,\n",
       " ' s': 55,\n",
       " 'sa': 56,\n",
       " 'av': 57,\n",
       " 'va': 58,\n",
       " 'ait': 59,\n",
       " 't,': 60,\n",
       " ', ': 61,\n",
       " ' si': 62,\n",
       " 'i v': 63,\n",
       " 'vi': 64,\n",
       " 'ie': 65,\n",
       " 'eil': 66,\n",
       " 'll': 67,\n",
       " 'les': 68,\n",
       " 'ss': 69,\n",
       " 'se p': 70,\n",
       " 'po': 71,\n",
       " 'ou': 72,\n",
       " 'uv': 73,\n",
       " 'vai': 74,\n",
       " 'it': 75,\n",
       " 't M': 76,\n",
       " 'Mi': 77,\n",
       " 'ieu': 78,\n",
       " 'ux': 79,\n",
       " 'x ': 80,\n",
       " ' v': 81,\n",
       " 'vau': 82,\n",
       " 'ut': 83,\n",
       " 't s': 84,\n",
       " 'sé': 85,\n",
       " 'éd': 86,\n",
       " 'du': 87,\n",
       " 'ui': 88,\n",
       " 'ire': 89,\n",
       " 'e q': 90,\n",
       " 'que': 91,\n",
       " 'e s': 92,\n",
       " 'sév': 93,\n",
       " 'vir': 94,\n",
       " 'r L': 95,\n",
       " 'Le': 96,\n",
       " 'e f': 97,\n",
       " 'fo': 98,\n",
       " 'ou ': 99,\n",
       " ' se': 100,\n",
       " 'em': 101,\n",
       " 'mb': 102,\n",
       " 'bl': 103,\n",
       " 'le ': 104,\n",
       " ' sa': 105,\n",
       " 'ag': 106,\n",
       " 'ge': 107,\n",
       " 'e qu': 108,\n",
       " 'ua': 109,\n",
       " 'an': 110,\n",
       " 'nd': 111,\n",
       " 'd ': 112,\n",
       " ' i': 113,\n",
       " 'il ': 114,\n",
       " ' se ': 115,\n",
       " ' t': 116,\n",
       " 'ta': 117}"
      ]
     },
     "execution_count": 16,
     "metadata": {},
     "output_type": "execute_result"
    }
   ],
   "source": [
    "seq=\"Il est plus facile de conseiller que de faire Si jeunesse savait, si vieillesse pouvait Mieux vaut séduire que sévir Le fou semble sage quand il se tait\"\n",
    "compress_text_lzw(seq,{'a':1,'e':2,'c':3,'d':4,'b':5})"
   ]
  },
  {
   "cell_type": "markdown",
   "metadata": {},
   "source": [
    "### 2. Decompression_Texte :"
   ]
  },
  {
   "cell_type": "code",
   "execution_count": 7,
   "metadata": {},
   "outputs": [],
   "source": [
    "def find_key(v,dic1): \n",
    "    for k,val in dic1.items(): \n",
    "        if v == val: \n",
    "            return k \n",
    "    return '0'"
   ]
  },
  {
   "cell_type": "code",
   "execution_count": 13,
   "metadata": {},
   "outputs": [],
   "source": [
    "def decompress_text_lzw(code,dic):\n",
    "    D=[]\n",
    "    dic1=dic.copy()\n",
    "    n=len(dic1)\n",
    "    key1= find_key(code[0],dic1)\n",
    "    chain=key1\n",
    "    D.append([code[0],key1])\n",
    "    for i in range(1,len(code)):\n",
    "        n+=1\n",
    "        key2= find_key(code[i],dic1)\n",
    "        if key2=='0':\n",
    "            key2=key1+key1[0]\n",
    "        chain+=key2\n",
    "        D.append([code[i],key2])\n",
    "        key=key1+key2[0]\n",
    "        dic1[key]=n\n",
    "        key1=key2\n",
    "    return dic1,D,chain"
   ]
  },
  {
   "cell_type": "code",
   "execution_count": 18,
   "metadata": {},
   "outputs": [
    {
     "data": {
      "text/plain": [
       "({'a': 1, 'e': 2, 'c': 3, 'd': 4, 'b': 5, 'ea': 6, 'ac': 7, 'cd': 8, 'db': 9},\n",
       " [[2, 'e'], [1, 'a'], [3, 'c'], [4, 'd'], [5, 'b']],\n",
       " 'eacdb')"
      ]
     },
     "execution_count": 18,
     "metadata": {},
     "output_type": "execute_result"
    }
   ],
   "source": [
    "decompress_text_lzw([2,1,3,4,5],{'a':1,'e':2,'c':3,'d':4,'b':5})"
   ]
  },
  {
   "cell_type": "markdown",
   "metadata": {},
   "source": [
    "### 3. Compression_Image :"
   ]
  },
  {
   "cell_type": "code",
   "execution_count": 19,
   "metadata": {},
   "outputs": [],
   "source": [
    "\n",
    "def compression_img_huff(img):\n",
    "    nl,nc=np.shape(img)\n",
    "    l=[]\n",
    "    strg=''\n",
    "    l=img.reshape(nl*nc)\n",
    "    for i in l:\n",
    "        strg+=str(i)\n",
    "        \n",
    "    return compress_text_lzw(strg,{'a':1,'e':2,'c':3,'d':4,'b':5})\n"
   ]
  },
  {
   "cell_type": "code",
   "execution_count": 21,
   "metadata": {},
   "outputs": [
    {
     "data": {
      "text/plain": [
       "{'0': 6,\n",
       " '03': 7,\n",
       " '35': 8,\n",
       " '57': 9,\n",
       " '72': 10,\n",
       " '23': 11,\n",
       " '30': 12,\n",
       " '08': 13,\n",
       " '85': 14,\n",
       " '53': 15,\n",
       " '32': 16,\n",
       " '25': 17,\n",
       " '538': 18,\n",
       " '81': 19,\n",
       " '14': 20,\n",
       " '41': 21,\n",
       " '15': 22,\n",
       " '51': 23,\n",
       " '11': 24,\n",
       " '13': 25,\n",
       " '37': 26,\n",
       " '724': 27,\n",
       " '43': 28,\n",
       " '303': 29,\n",
       " '304': 30,\n",
       " '410': 31,\n",
       " '01': 32,\n",
       " '12': 33,\n",
       " '254': 34,\n",
       " '48': 35,\n",
       " '80': 36,\n",
       " '02': 37,\n",
       " '22': 38,\n",
       " '230': 39,\n",
       " '016': 40,\n",
       " '62': 41,\n",
       " '21': 42,\n",
       " '132': 43,\n",
       " '220': 44,\n",
       " '00': 45,\n",
       " '010': 46,\n",
       " '05': 47,\n",
       " '52': 48,\n",
       " '250': 49,\n",
       " '0100': 50,\n",
       " '023': 51,\n",
       " '306': 52}"
      ]
     },
     "execution_count": 21,
     "metadata": {},
     "output_type": "execute_result"
    }
   ],
   "source": [
    "compression_img_huff(img)"
   ]
  },
  {
   "cell_type": "code",
   "execution_count": null,
   "metadata": {},
   "outputs": [],
   "source": []
  }
 ],
 "metadata": {
  "kernelspec": {
   "display_name": "Python 3",
   "language": "python",
   "name": "python3"
  },
  "language_info": {
   "codemirror_mode": {
    "name": "ipython",
    "version": 3
   },
   "file_extension": ".py",
   "mimetype": "text/x-python",
   "name": "python",
   "nbconvert_exporter": "python",
   "pygments_lexer": "ipython3",
   "version": "3.8.5"
  }
 },
 "nbformat": 4,
 "nbformat_minor": 4
}
