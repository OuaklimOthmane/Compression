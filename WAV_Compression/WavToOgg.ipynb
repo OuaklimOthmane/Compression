{
 "cells": [
  {
   "cell_type": "markdown",
   "metadata": {},
   "source": [
    "# Partie Pratique :"
   ]
  },
  {
   "cell_type": "code",
   "execution_count": null,
   "metadata": {},
   "outputs": [],
   "source": [
    "!pip install pydub"
   ]
  },
  {
   "cell_type": "code",
   "execution_count": 9,
   "metadata": {},
   "outputs": [],
   "source": [
    "from pydub import AudioSegment \n",
    "from pydub.playback import play \n",
    "from IPython.display import Audio\n",
    "import tkinter\n",
    "from tkinter import*\n",
    "import os \n",
    "from tkinter.filedialog import askopenfilename"
   ]
  },
  {
   "cell_type": "code",
   "execution_count": 8,
   "metadata": {},
   "outputs": [],
   "source": [
    "#La  fonction qui lit un fichier audio, lit ces informations :\n",
    "def lire_audio(file):\n",
    "    format_audio=file[-3:]\n",
    "    audio=AudioSegment.from_file(file = file,format = format_audio)\n",
    "    channels=audio.channels\n",
    "    print(\"Le nombre de cannaux/pistes : \",channels)\n",
    "    if channels==1:\n",
    "        print(\"ce son est mono\")\n",
    "    if channels==2:\n",
    "        print(\"ce son est stéréo\")\n",
    "    sample_width=audio.sample_width\n",
    "    print(\"La largeur de l'échantillon : \",sample_width,\" octets\")\n",
    "    frame_rate=audio.frame_rate\n",
    "    print(\"La fraquence d'échantillonage : \",frame_rate,\" Hz\")\n",
    "    t=audio.duration_seconds\n",
    "    print(\"la durée de l'audio  :\",t,\" secondes\")"
   ]
  },
  {
   "cell_type": "code",
   "execution_count": 11,
   "metadata": {},
   "outputs": [],
   "source": [
    "#La fonction qui transforme un fichier audio de n'importe quelle format en format ogg :\n",
    "def convert(nom_fich,format):\n",
    "    song = AudioSegment.from_mp3(nom_fich+\".\"+format)\n",
    "    song.export(nom_fich+\".ogg\", format=\"ogg\")"
   ]
  },
  {
   "cell_type": "code",
   "execution_count": 12,
   "metadata": {},
   "outputs": [],
   "source": [
    "#La fonction qui transforme un fichier audio de format ogg en format wave :\n",
    "def decompresseOgg_wav(src,dest):\n",
    "    song = AudioSegment.from_ogg(src)\n",
    "    audio = song.export(dest,format=\"wav\")\n",
    "    return audio"
   ]
  },
  {
   "cell_type": "code",
   "execution_count": 13,
   "metadata": {},
   "outputs": [],
   "source": [
    "#La fonction qui affiche les informations de compression nécessaires à la compression d’un fichier audio.\n",
    "def infoComp(fichier):\n",
    "    wav_file = AudioSegment.from_file(file = fichier , format = \"WAV\")\n",
    "    song = AudioSegment.from_mp3( fichier )\n",
    "    taille_init = os.path.getsize( fichier )\n",
    "    word = fichier[:-4]\n",
    "    fichOgg =word + \".ogg\"\n",
    "    song.export(fichOgg, format=\"ogg\")\n",
    "    ogg= AudioSegment.from_ogg(fichOgg)\n",
    "    taille_comp = os.path.getsize(fichOgg)\n",
    "    tauxComp = taille_init/taille_comp\n",
    "    return tauxComp,taille_comp"
   ]
  },
  {
   "cell_type": "code",
   "execution_count": 13,
   "metadata": {},
   "outputs": [],
   "source": [
    "#La fonction aqui permet d'afficher le repertoire où il ya les fichiers audios et charger un choisi :\n",
    "def explort(repertoireint):\n",
    "    root=Tk()\n",
    "    filename=filedialog.askopenfilename(initialdir=repertoireint,title=\"choisir le fichier\",filetypes=((\"all files\",\".\"),(\"fihiers wav\",\".wav\"),(\"fichier ogg\",\".ogg\")))\n",
    "    root.destroy()\n",
    "    return filename"
   ]
  },
  {
   "cell_type": "code",
   "execution_count": 11,
   "metadata": {},
   "outputs": [],
   "source": [
    "repertoireint=\"C:\\\\Users\\\\hp\\\\TDM\\\\Audios\"\n"
   ]
  },
  {
   "cell_type": "markdown",
   "metadata": {},
   "source": [
    "# l'affichage des paramettres d'un fichier audio"
   ]
  },
  {
   "cell_type": "code",
   "execution_count": 16,
   "metadata": {},
   "outputs": [
    {
     "name": "stdout",
     "output_type": "stream",
     "text": [
      "Le nombre de cannaux/pistes :  1\n",
      "ce son est mono\n",
      "La largeur de l'échantillon :  2  octets\n",
      "La fraquence d'échantillonage :  8000  Hz\n",
      "la durée de l'audio  : 238.896  secondes\n",
      "None\n"
     ]
    }
   ],
   "source": [
    "audio=explort(repertoireint)\n",
    "#les paramettres d'un fichier audio\n",
    "param=lire_audio(audio) \n",
    "print(param)\n"
   ]
  },
  {
   "cell_type": "markdown",
   "metadata": {},
   "source": [
    "# la taille d'un fichier audio et le taux de compression"
   ]
  },
  {
   "cell_type": "code",
   "execution_count": 17,
   "metadata": {},
   "outputs": [
    {
     "name": "stdout",
     "output_type": "stream",
     "text": [
      "8.068593378452533\n",
      "21868\n"
     ]
    }
   ],
   "source": [
    "audio=explort(repertoireint)\n",
    "#la taille d'un fichier audio et le taux de compression\n",
    "Taux,taille=infoComp(audio)\n",
    "print(\"Taux de compression : \",Taux)\n",
    "print(\"Taille de fichier audio compressé : \",taille)"
   ]
  },
  {
   "cell_type": "markdown",
   "metadata": {},
   "source": [
    "# Convertir un fichier audio .ogg en .wav"
   ]
  },
  {
   "cell_type": "code",
   "execution_count": 18,
   "metadata": {},
   "outputs": [
    {
     "ename": "NameError",
     "evalue": "name 'dst' is not defined",
     "output_type": "error",
     "traceback": [
      "\u001b[1;31m---------------------------------------------------------------------------\u001b[0m",
      "\u001b[1;31mNameError\u001b[0m                                 Traceback (most recent call last)",
      "\u001b[1;32m<ipython-input-18-f13a9874ba56>\u001b[0m in \u001b[0;36m<module>\u001b[1;34m\u001b[0m\n\u001b[0;32m      1\u001b[0m \u001b[0msrc\u001b[0m\u001b[1;33m=\u001b[0m\u001b[0mexplort\u001b[0m\u001b[1;33m(\u001b[0m\u001b[0mrepertoireint\u001b[0m\u001b[1;33m)\u001b[0m\u001b[1;33m\u001b[0m\u001b[1;33m\u001b[0m\u001b[0m\n\u001b[0;32m      2\u001b[0m \u001b[1;31m#decompression d'un fichier audio .ogg en .wav\u001b[0m\u001b[1;33m\u001b[0m\u001b[1;33m\u001b[0m\u001b[1;33m\u001b[0m\u001b[0m\n\u001b[1;32m----> 3\u001b[1;33m \u001b[0mdecompresseOgg_wav\u001b[0m\u001b[1;33m(\u001b[0m\u001b[0msrc\u001b[0m\u001b[1;33m,\u001b[0m\u001b[0mdst\u001b[0m\u001b[1;33m)\u001b[0m\u001b[1;33m\u001b[0m\u001b[1;33m\u001b[0m\u001b[0m\n\u001b[0m",
      "\u001b[1;31mNameError\u001b[0m: name 'dst' is not defined"
     ]
    }
   ],
   "source": [
    "#il faut choisir un audio avec l'extention .ogg\n",
    "src=explort(repertoireint)\n",
    "dst=src[23:-4]+\".wav\"\n",
    "#decompression d'un fichier audio .ogg en .wav\n",
    "decompresseOgg_wav(src,dst)"
   ]
  },
  {
   "cell_type": "markdown",
   "metadata": {},
   "source": [
    "# convertir un fichier audio quelconque en format .ogg "
   ]
  },
  {
   "cell_type": "code",
   "execution_count": null,
   "metadata": {},
   "outputs": [],
   "source": [
    "nom_audio=explort(repertoireint)\n",
    "#convertir un fichier audio quelconque en format .ogg \n",
    "convert(nom_audio,format)"
   ]
  }
 ],
 "metadata": {
  "kernelspec": {
   "display_name": "Python 3",
   "language": "python",
   "name": "python3"
  },
  "language_info": {
   "codemirror_mode": {
    "name": "ipython",
    "version": 3
   },
   "file_extension": ".py",
   "mimetype": "text/x-python",
   "name": "python",
   "nbconvert_exporter": "python",
   "pygments_lexer": "ipython3",
   "version": "3.8.5"
  },
  "toc": {
   "base_numbering": 1,
   "nav_menu": {},
   "number_sections": true,
   "sideBar": true,
   "skip_h1_title": false,
   "title_cell": "Table of Contents",
   "title_sidebar": "Contents",
   "toc_cell": false,
   "toc_position": {},
   "toc_section_display": true,
   "toc_window_display": false
  },
  "varInspector": {
   "cols": {
    "lenName": 16,
    "lenType": 16,
    "lenVar": 40
   },
   "kernels_config": {
    "python": {
     "delete_cmd_postfix": "",
     "delete_cmd_prefix": "del ",
     "library": "var_list.py",
     "varRefreshCmd": "print(var_dic_list())"
    },
    "r": {
     "delete_cmd_postfix": ") ",
     "delete_cmd_prefix": "rm(",
     "library": "var_list.r",
     "varRefreshCmd": "cat(var_dic_list()) "
    }
   },
   "types_to_exclude": [
    "module",
    "function",
    "builtin_function_or_method",
    "instance",
    "_Feature"
   ],
   "window_display": false
  }
 },
 "nbformat": 4,
 "nbformat_minor": 5
}
