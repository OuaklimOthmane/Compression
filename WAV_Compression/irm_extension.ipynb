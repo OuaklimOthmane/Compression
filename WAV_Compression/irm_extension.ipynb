{
 "cells": [
  {
   "cell_type": "markdown",
   "metadata": {},
   "source": [
    "# Innovation : Convertir un audio wave en irm :"
   ]
  },
  {
   "cell_type": "code",
   "execution_count": 156,
   "metadata": {},
   "outputs": [],
   "source": [
    "#importation des bibliothéques :\n",
    "import wave \n",
    "import numpy as np\n",
    "import math\n",
    "import sounddevice as sd\n",
    "from pydub.playback import play \n",
    "from pydub import AudioSegment \n",
    "import tkinter\n",
    "from tkinter.filedialog import askopenfilename\n",
    "import os"
   ]
  },
  {
   "cell_type": "code",
   "execution_count": 157,
   "metadata": {},
   "outputs": [],
   "source": [
    "#La fonction qui prépare les données à compresser et  qui retourne les informations qu'on a besoin pour les compresser:\n",
    "def préparation_data_wave(file):\n",
    "    wave_read=wave.open(file,'r')\n",
    "    nframes=wave_read.getnframes()\n",
    "    content=wave_read.readframes(nframes)\n",
    "    nchannels=wave_read.getnchannels()\n",
    "    sampwidth=wave_read.getsampwidth()\n",
    "    framerate=wave_read.getframerate()\n",
    "    bitsPerSample=sampwidth*8\n",
    "    taille_wave = os.path.getsize(file)\n",
    "    audio_as_np_int32 = np.frombuffer(content, dtype=np.int32)\n",
    "    samples = audio_as_np_int32.astype(np.float32)\n",
    "    mn=min(samples)\n",
    "    k=[]\n",
    "    for i in samples:\n",
    "        if i>0:\n",
    "            k.append(i)\n",
    "        else:\n",
    "            k.append(i-mn)\n",
    "    mx=max(k)\n",
    "    k=(k/max(k))*255   \n",
    "    données=[]\n",
    "    for i in k :\n",
    "        données.append(int(np.round(i)))\n",
    "    strg=\"\"\n",
    "    for i in données :\n",
    "        strg+=chr(int(i))\n",
    "\n",
    "    return strg,audio_as_np_int32,framerate, bitsPerSample, sampwidth, nchannels,mn,mx,taille_wave\n",
    "    "
   ]
  },
  {
   "cell_type": "code",
   "execution_count": 158,
   "metadata": {},
   "outputs": [],
   "source": [
    "#La fonction qui compresse les données de l'audio en utilisant LZW:\n",
    "def compress(data):\n",
    "    \"\"\"Compress a string to a list of output symbols.\"\"\"\n",
    "    # Build the dictionary.\n",
    "    dict_size = 256\n",
    "    dictionary = dict((chr(i), i) for i in range(dict_size))\n",
    "    # in Python 3: dictionary = {chr(i): i for i in range(dict_size)}\n",
    "    w = \"\"\n",
    "    result = []\n",
    "    for c in data:\n",
    "        wc = w + c\n",
    "        if wc in dictionary:\n",
    "            w = wc\n",
    "        else:\n",
    "            result.append(dictionary[w])\n",
    "            # Add wc to the dictionary.\n",
    "            dictionary[wc] = dict_size\n",
    "            dict_size += 1\n",
    "            w = c\n",
    "    # Output the code for w.\n",
    "    if w:\n",
    "        result.append(dictionary[w])\n",
    "    return result\n"
   ]
  },
  {
   "cell_type": "code",
   "execution_count": 159,
   "metadata": {},
   "outputs": [],
   "source": [
    "#la fonction qui retourne l'entête de fichier.irm\n",
    "def genHeader(framerate, bitsPerSample, sampwidth, nchannels):\n",
    "    datasize = sampwidth * nchannels * bitsPerSample // 8\n",
    "    o = bytes(\"RIFF\",'ascii')                                               # (4byte) Marks file as RIFF\n",
    "    o += (datasize + 36).to_bytes(4,'little')                               # (4byte) File size in bytes excluding this and RIFF marker\n",
    "    o += bytes(\"IRM\",'ascii')                                              # (4byte) File type\n",
    "    o += bytes(\"fmt \",'ascii')                                              # (4byte) Format Chunk Marker\n",
    "    o += (16).to_bytes(4,'little')                                          # (4byte) Length of above format data\n",
    "    o += (0).to_bytes(2,'little')                                           # (2byte) Format type (1 - PCM)\n",
    "    o += (nchannels).to_bytes(nchannels,'little')                                    # (2byte)\n",
    "    o += (framerate).to_bytes(4,'little')                                  # (4byte)\n",
    "    o += (framerate * nchannels * bitsPerSample // 8).to_bytes(4,'little')  # (4byte)\n",
    "    o += (nchannels * bitsPerSample // 8).to_bytes(2,'little')               # (2byte)\n",
    "    o += (bitsPerSample).to_bytes(2,'little')                             # (2byte)\n",
    "    o += bytes(\"min\",'ascii')                                              # (4byte) File type\n",
    "    o += bytes(str(mn),'utf-8')\n",
    "    o += bytes(\"max\",'ascii')                                              # (4byte) File type\n",
    "    o += bytes(str(mx),'utf-8')    \n",
    "    o += bytes(\"data\",'ascii')                                              # (4byte) Data Chunk Marker\n",
    "    o += (datasize).to_bytes(4,'little')                                    # (4byte) Data size in bytes\n",
    "    return o"
   ]
  },
  {
   "cell_type": "code",
   "execution_count": 160,
   "metadata": {},
   "outputs": [],
   "source": [
    "#la fonction qui crée le fichier .irm et retourne sa taille :\n",
    "def compression_irm(compress,framerate, bitsPerSample, sampwidth, nchannels,mn,mx):\n",
    "    #compress=compress(strg)\n",
    "    données_compressées=\"\"\n",
    "    for i in range(len(compress)):\n",
    "        données_compressées+=str(compress[i])\n",
    "        if i!=(len(compress)-1):\n",
    "            données_compressées+=\",\"\n",
    "    obj = open(\"audioirm.irm\",\"wb\")\n",
    "    header=genHeader(framerate, bitsPerSample, sampwidth, nchannels)\n",
    "    obj.write(header)\n",
    "    obj.write(bytes(données_compressées,'utf-8'))\n",
    "    taille_irm = os.path.getsize(\"audioirm.irm\")\n",
    "    return taille_irm\n",
    "\n",
    "    "
   ]
  },
  {
   "cell_type": "code",
   "execution_count": 161,
   "metadata": {},
   "outputs": [],
   "source": [
    "#La fonction qui fait l'opération inverse de la préparation des données :\n",
    "def retour2(liste,z,y):\n",
    "    li=[]\n",
    "    for element in liste:\n",
    "        e=element\n",
    "        elem=(e/255)*int(y)\n",
    "        if ((elem+int(z))<=0):\n",
    "            li.append(elem)\n",
    "        else:\n",
    "            li.append(elem+int(z))\n",
    "    return li"
   ]
  },
  {
   "cell_type": "code",
   "execution_count": 162,
   "metadata": {},
   "outputs": [],
   "source": [
    "#La fonction de décodage LZW :\n",
    "def decompress_lzw(seq):\n",
    "    dictionaire={}\n",
    "    decompresse=\"\"\n",
    "    decompresse+=chr(seq[0])\n",
    "    i=1\n",
    "    cmpt=256\n",
    "    dictionaire[cmpt]=chr(seq[0])+chr(seq[1])\n",
    "    while i<len(seq):\n",
    "        if seq[i] <= 255:\n",
    "            if seq[i-1]<=255: \n",
    "                dictionaire[cmpt]=chr(seq[i-1])+chr(seq[i])\n",
    "            else:\n",
    "                dictionaire[cmpt]=dictionaire[seq[i-1]]+chr(seq[i]) \n",
    "            decompresse+=chr(seq[i])\n",
    "            cmpt+=1\n",
    "            i=i+1\n",
    "        else:\n",
    "            \n",
    "            if seq[i-1]<=255: \n",
    "                dictionaire[cmpt]=chr(seq[i-1])+chr(seq[i-1])\n",
    "                dictionaire[cmpt]=chr(seq[i-1])+dictionaire[seq[i]][:1]\n",
    "               \n",
    "            else:\n",
    "                dictionaire[cmpt]=dictionaire[seq[i-1]]+dictionaire[seq[i-1]]\n",
    "                dictionaire[cmpt]=dictionaire[seq[i-1]]+dictionaire[seq[i]][:1]\n",
    "            decompresse+=dictionaire[seq[i]]\n",
    "            i+=1\n",
    "            cmpt+=1\n",
    "    return decompresse"
   ]
  },
  {
   "cell_type": "code",
   "execution_count": 163,
   "metadata": {},
   "outputs": [],
   "source": [
    "#La fonction qui fait la décompression de l'audio .irm :\n",
    "def decompression_irm():\n",
    "    f= open(\"audio.irm\",\"rb\")\n",
    "    octets=f.read()\n",
    "    pos_donn=octets.find(bytes(\"data\",'utf-8'))\n",
    "    données=octets[pos_donn+8:]\n",
    "    données_irm=(((str(données))[2:-1]).split(','))\n",
    "    pos_min=octets.find(bytes(\"min\",'utf-8'))\n",
    "    pos_max=octets.find(bytes(\"max\",'utf-8'))\n",
    "    minimum=(((str(octets[pos_min+3:pos_max]))[2:-1]).split(','))[0]\n",
    "    maximum=(((str(octets[pos_max+3:pos_donn]))[2:-1]).split(','))[0]\n",
    "    maximum=int(float(maximum))\n",
    "    minimum=int(float(minimum))\n",
    "    comp=[]\n",
    "    for i in range(0,len(données_irm)) :\n",
    "        comp.append(int(données_irm[i]))\n",
    "    decompress=decompress_lzw(comp)\n",
    "    liste_decomp=[]\n",
    "    for i in decompress:\n",
    "        liste_decomp.append(ord(i))\n",
    "    r=retour2(liste_decomp,minimum,maximum)\n",
    "    return r\n"
   ]
  },
  {
   "cell_type": "code",
   "execution_count": 164,
   "metadata": {},
   "outputs": [],
   "source": [
    "#La fonction qui permet d'écouter l'audio .irm :\n",
    "def écouter_irm(données_décompressées,framerate):\n",
    "    y= np.asarray(données_décompressées)\n",
    "    sd.play(y,framerate)"
   ]
  },
  {
   "cell_type": "code",
   "execution_count": 165,
   "metadata": {},
   "outputs": [],
   "source": [
    "#La fonction qui permet d'écouter l'audio original .wave :\n",
    "def écouter_wave(données_wave,framerate):\n",
    "    sd.play(données_wave,framerate)"
   ]
  },
  {
   "cell_type": "code",
   "execution_count": 166,
   "metadata": {},
   "outputs": [],
   "source": [
    "#La fonction qui calcule le taux de compression\n",
    "def taux_compression(taille_wave,taille_irm):\n",
    "    T=1-(taille_irm/taille_wave)\n",
    "    return (np.round(T*100,2))"
   ]
  },
  {
   "cell_type": "code",
   "execution_count": 169,
   "metadata": {},
   "outputs": [],
   "source": [
    "#La fonction aqui permet d'afficher le repertoire où il ya les fichiers .wav et charger un choisi :\n",
    "def explort(repertoireint):\n",
    "    root=tkinter.Tk()\n",
    "    filename=tkinter.filedialog.askopenfilename(initialdir=repertoireint,title=\"choisir le fichier\",filetypes=((\"tous type de fichier\",\"*.*\"),(\"fihiers wav\",\"*.wav\"),(\"fichier mp3\",\"*.mp3\")))\n",
    "    root.destroy()\n",
    "    return filename"
   ]
  },
  {
   "cell_type": "code",
   "execution_count": 170,
   "metadata": {},
   "outputs": [
    {
     "name": "stdout",
     "output_type": "stream",
     "text": [
      "La taille de l'audio original est :  320816  octets\n",
      "La taille de l'audio compressé est :  180387  octets\n",
      "Le taux de compression est : 43.77  %\n"
     ]
    }
   ],
   "source": [
    "#programme principal :\n",
    "repertoireint=\"C:\\\\Users\\\\hp\\\\TDM\\\\Audios\"\n",
    "file=explort(repertoireint)   #ouvrir audio(wave)\n",
    "(strg,audio_as_np_int32,framerate,bitsPerSample,sampwidth,nchannels,mn,mx,taille_wave)=préparation_data_wave(file)\n",
    "compress_lzw=compress(strg)\n",
    "taille_irm=compression_irm(compress_lzw,framerate,bitsPerSample,sampwidth,nchannels,mn,mx)\n",
    "données_décompressées=decompression_irm()\n",
    "print(\"La taille de l'audio original est : \",taille_wave,\" octets\")\n",
    "print(\"La taille de l'audio compressé est : \",taille_irm,\" octets\")\n",
    "print(\"Le taux de compression est :\",taux_compression(taille_wave,taille_irm),\" %\")\n"
   ]
  },
  {
   "cell_type": "markdown",
   "metadata": {},
   "source": [
    "### Ecouter l'audio compressé  (.irm) :"
   ]
  },
  {
   "cell_type": "code",
   "execution_count": 173,
   "metadata": {},
   "outputs": [],
   "source": [
    "écouter_wave(données_décompressées,framerate)"
   ]
  },
  {
   "cell_type": "markdown",
   "metadata": {},
   "source": [
    "### Ecouter l'audio original (.wav):"
   ]
  },
  {
   "cell_type": "code",
   "execution_count": 172,
   "metadata": {},
   "outputs": [],
   "source": [
    "écouter_irm(audio_as_np_int32,framerate)\n"
   ]
  },
  {
   "cell_type": "code",
   "execution_count": null,
   "metadata": {},
   "outputs": [],
   "source": []
  }
 ],
 "metadata": {
  "kernelspec": {
   "display_name": "Python 3",
   "language": "python",
   "name": "python3"
  },
  "language_info": {
   "codemirror_mode": {
    "name": "ipython",
    "version": 3
   },
   "file_extension": ".py",
   "mimetype": "text/x-python",
   "name": "python",
   "nbconvert_exporter": "python",
   "pygments_lexer": "ipython3",
   "version": "3.8.5"
  }
 },
 "nbformat": 4,
 "nbformat_minor": 4
}
